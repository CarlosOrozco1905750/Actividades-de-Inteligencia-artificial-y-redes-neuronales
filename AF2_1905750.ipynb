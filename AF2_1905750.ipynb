{
  "nbformat": 4,
  "nbformat_minor": 0,
  "metadata": {
    "colab": {
      "provenance": [],
      "authorship_tag": "ABX9TyM1vPB0uamv/ubBthKK1Fn0",
      "include_colab_link": true
    },
    "kernelspec": {
      "name": "python3",
      "display_name": "Python 3"
    },
    "language_info": {
      "name": "python"
    }
  },
  "cells": [
    {
      "cell_type": "markdown",
      "metadata": {
        "id": "view-in-github",
        "colab_type": "text"
      },
      "source": [
        "<a href=\"https://colab.research.google.com/github/CarlosOrozco1905750/Actividades-de-Inteligencia-artificial-y-redes-neuronales/blob/main/AF2_1905750.ipynb\" target=\"_parent\"><img src=\"https://colab.research.google.com/assets/colab-badge.svg\" alt=\"Open In Colab\"/></a>"
      ]
    },
    {
      "cell_type": "code",
      "source": [
        "\"Introducir su nombre\"\n",
        "Name=input()\n",
        "if Name != \"Ana\" and Name != \"Juan\" and Name != \"Pedro\":\n",
        "  print(\"Hola\" + Name)\n",
        "else:\n",
        "  print(\"Adios\")"
      ],
      "metadata": {
        "id": "5tpiiN8jlw0p"
      },
      "execution_count": null,
      "outputs": []
    },
    {
      "cell_type": "code",
      "source": [
        "\"Introducir tu lista a invertir\"\n",
        "def listin(ini,fi,inc):\n",
        "  for y in range(ini,fi,inc):\n",
        "    rev=[y]\n",
        "    inv= list(reversed(rev))\n",
        "    print(inv)\n"
      ],
      "metadata": {
        "id": "vPx5tv10ODic"
      },
      "execution_count": 74,
      "outputs": []
    },
    {
      "cell_type": "code",
      "source": [
        "listin(2,14,2)"
      ],
      "metadata": {
        "colab": {
          "base_uri": "https://localhost:8080/"
        },
        "id": "1NahLM0TWBWY",
        "outputId": "91959df2-edcb-437b-ac02-e668345faa3c"
      },
      "execution_count": 77,
      "outputs": [
        {
          "output_type": "stream",
          "name": "stdout",
          "text": [
            "[2]\n",
            "[4]\n",
            "[6]\n",
            "[8]\n",
            "[10]\n",
            "[12]\n"
          ]
        }
      ]
    },
    {
      "cell_type": "code",
      "source": [
        "cadena=[1,2,3,4,5]\n",
        "print(cadena[:-3])\n",
        "#print(cadena[-2])\n",
        "#print(cadena[-3])\n",
        "#print(cadena[-4])\n",
        "#print(cadena[-5])"
      ],
      "metadata": {
        "id": "RP9F9r_8XQRX"
      },
      "execution_count": null,
      "outputs": []
    }
  ]
}